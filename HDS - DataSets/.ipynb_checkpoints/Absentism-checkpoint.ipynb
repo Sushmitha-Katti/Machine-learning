{
 "cells": [
  {
   "cell_type": "code",
   "execution_count": 82,
   "metadata": {},
   "outputs": [],
   "source": [
    "import numpy as np\n",
    "import pandas as pd\n",
    "import matplotlib.pyplot as plt\n",
    "from sklearn.model_selection import train_test_split"
   ]
  },
  {
   "cell_type": "code",
   "execution_count": 83,
   "metadata": {},
   "outputs": [],
   "source": [
    "data = pd.read_excel(\"./Absenteeism_at_work.xls\", index_col=0)\n"
   ]
  },
  {
   "cell_type": "code",
   "execution_count": 84,
   "metadata": {},
   "outputs": [
    {
     "data": {
      "text/plain": [
       "Index(['Reason for absence', 'Month of absence', 'Day of the week', 'Seasons',\n",
       "       'Transportation expense', 'Distance from Residence to Work',\n",
       "       'Service time', 'Age', 'Work load Average/day ', 'Hit target',\n",
       "       'Disciplinary failure', 'Education', 'Son', 'Social drinker',\n",
       "       'Social smoker', 'Pet', 'Weight', 'Height', 'Body mass index',\n",
       "       'Absenteeism time in hours'],\n",
       "      dtype='object')"
      ]
     },
     "execution_count": 84,
     "metadata": {},
     "output_type": "execute_result"
    }
   ],
   "source": [
    "data.keys()\n",
    "    "
   ]
  },
  {
   "cell_type": "code",
   "execution_count": 85,
   "metadata": {},
   "outputs": [
    {
     "data": {
      "text/plain": [
       "Seasons                            0.005615\n",
       "Social smoker                      0.008936\n",
       "Weight                             0.015789\n",
       "Service time                       0.019029\n",
       "Month of absence                   0.024345\n",
       "Work load Average/day              0.024749\n",
       "Hit target                         0.026695\n",
       "Transportation expense             0.027585\n",
       "Pet                                0.028277\n",
       "Education                          0.046235\n",
       "Body mass index                    0.049719\n",
       "Social drinker                     0.065067\n",
       "Age                                0.065760\n",
       "Distance from Residence to Work    0.088363\n",
       "Son                                0.113756\n",
       "Disciplinary failure               0.124248\n",
       "Day of the week                    0.124361\n",
       "Height                             0.144420\n",
       "Reason for absence                 0.173116\n",
       "Absenteeism time in hours          1.000000\n",
       "Name: Absenteeism time in hours, dtype: float64"
      ]
     },
     "execution_count": 85,
     "metadata": {},
     "output_type": "execute_result"
    }
   ],
   "source": [
    "correlation = data.corr('pearson')\n",
    "abs(correlation['Absenteeism time in hours']).sort_values()"
   ]
  },
  {
   "cell_type": "code",
   "execution_count": 86,
   "metadata": {},
   "outputs": [],
   "source": [
    "k=3\n",
    "cent_change = 0.0001 #change in centroid\n",
    "max_iter = 300"
   ]
  },
  {
   "cell_type": "code",
   "execution_count": 87,
   "metadata": {},
   "outputs": [],
   "source": [
    "def fit(data, k, max_iter, tol):\n",
    "    \n",
    "    centroids = {}\n",
    "    for i in range(k):\n",
    "        centroids[i] = data[i] #centroid:datas\n",
    "        \n",
    "    for i in range(max_iter):\n",
    "        classifications = {} #initialisation\n",
    "        \n",
    "        for i in range(k):\n",
    "            classifications[i] = []\n",
    "            \n",
    "        for featureset in data:\n",
    "            distances = [np.linalg.norm(featureset-centroids[centroid])for centroid in centroids] #difference of distance and centroids\n",
    "            classification = distances.index(min(distances)) # index of minimun distance centroid\n",
    "            classifications[classification].append(featureset) # append feature to min disatnce centroid\n",
    "            \n",
    "        prev_centroids = dict(centroids) #prev centroid val\n",
    "        \n",
    "        for classification in classifications:\n",
    "            centroids[classification] = np.average(classifications[classification], axis =0) # new centroid value\n",
    "        optimized = True\n",
    "        \n",
    "        for c in centroids:\n",
    "            original_centroid = prev_centroids[c]\n",
    "            current_centroid = centroids[c]\n",
    "            if np.sum((current_centroid - original_centroid)/(original_centroid*100.0))> tol:\n",
    "                optimized = False\n",
    "                \n",
    "        if optimized:\n",
    "            break\n",
    "        return centroids, classifications"
   ]
  },
  {
   "cell_type": "code",
   "execution_count": 88,
   "metadata": {},
   "outputs": [],
   "source": [
    "def predict(data, centroids):\n",
    "    distances = [np.linalg.norm(data-centroids[centroid]) for centroid in centroids]\n",
    "    classification = distances.index(min(distances))\n",
    "    return classification"
   ]
  },
  {
   "cell_type": "code",
   "execution_count": 89,
   "metadata": {},
   "outputs": [],
   "source": [
    "X =data.drop(['Absenteeism time in hours'], axis=1)\n",
    "x = (X-X.min())/(X.max() - X.min())"
   ]
  },
  {
   "cell_type": "code",
   "execution_count": 90,
   "metadata": {},
   "outputs": [],
   "source": [
    "xtrain, xtest = train_test_split(x,test_size=0.3)"
   ]
  },
  {
   "cell_type": "code",
   "execution_count": 95,
   "metadata": {},
   "outputs": [
    {
     "data": {
      "text/plain": [
       "array([[0.92857143, 0.27272727],\n",
       "       [0.96428571, 0.24242424],\n",
       "       [0.78571429, 0.18181818],\n",
       "       [0.32142857, 0.27272727],\n",
       "       [0.53571429, 0.36363636],\n",
       "       [0.85714286, 0.27272727],\n",
       "       [0.92857143, 0.12121212],\n",
       "       [0.96428571, 0.18181818],\n",
       "       [0.89285714, 0.21212121],\n",
       "       [0.82142857, 0.18181818],\n",
       "       [0.89285714, 0.21212121],\n",
       "       [0.82142857, 0.06060606],\n",
       "       [0.        , 0.45454545],\n",
       "       [0.89285714, 0.24242424],\n",
       "       [0.35714286, 0.27272727],\n",
       "       [1.        , 0.27272727],\n",
       "       [0.82142857, 0.06060606],\n",
       "       [0.46428571, 0.24242424],\n",
       "       [0.03571429, 0.06060606],\n",
       "       [0.35714286, 0.57575758],\n",
       "       [0.5       , 0.27272727],\n",
       "       [0.89285714, 0.45454545],\n",
       "       [0.96428571, 0.21212121],\n",
       "       [0.64285714, 0.        ],\n",
       "       [0.64285714, 0.27272727],\n",
       "       [0.25      , 0.18181818],\n",
       "       [0.39285714, 0.21212121],\n",
       "       [0.78571429, 0.33333333],\n",
       "       [0.96428571, 0.21212121],\n",
       "       [0.46428571, 0.24242424],\n",
       "       [0.        , 0.21212121],\n",
       "       [0.82142857, 0.24242424],\n",
       "       [0.82142857, 0.21212121],\n",
       "       [1.        , 0.15151515],\n",
       "       [0.5       , 0.45454545],\n",
       "       [0.89285714, 0.27272727],\n",
       "       [0.        , 0.18181818],\n",
       "       [0.42857143, 0.24242424],\n",
       "       [1.        , 0.21212121],\n",
       "       [0.82142857, 0.24242424],\n",
       "       [0.92857143, 0.12121212],\n",
       "       [0.75      , 0.21212121],\n",
       "       [0.42857143, 0.24242424],\n",
       "       [0.82142857, 1.        ],\n",
       "       [0.96428571, 0.21212121],\n",
       "       [0.        , 0.57575758],\n",
       "       [1.        , 0.21212121],\n",
       "       [0.82142857, 0.18181818],\n",
       "       [1.        , 0.18181818],\n",
       "       [0.28571429, 0.21212121],\n",
       "       [0.5       , 0.24242424],\n",
       "       [0.89285714, 0.18181818],\n",
       "       [0.67857143, 0.45454545],\n",
       "       [0.25      , 0.45454545],\n",
       "       [0.42857143, 0.27272727],\n",
       "       [0.78571429, 0.27272727],\n",
       "       [0.82142857, 0.12121212],\n",
       "       [0.82142857, 0.18181818],\n",
       "       [0.67857143, 0.21212121],\n",
       "       [0.46428571, 0.12121212],\n",
       "       [0.82142857, 0.18181818],\n",
       "       [0.57142857, 0.21212121],\n",
       "       [1.        , 0.21212121],\n",
       "       [0.96428571, 0.24242424],\n",
       "       [0.89285714, 1.        ],\n",
       "       [0.67857143, 0.27272727],\n",
       "       [0.82142857, 0.21212121],\n",
       "       [0.5       , 0.27272727],\n",
       "       [0.67857143, 1.        ],\n",
       "       [0.82142857, 0.18181818],\n",
       "       [0.96428571, 0.21212121],\n",
       "       [0.82142857, 0.24242424],\n",
       "       [0.96428571, 0.24242424],\n",
       "       [1.        , 0.24242424],\n",
       "       [0.78571429, 0.27272727],\n",
       "       [0.82142857, 0.18181818],\n",
       "       [0.82142857, 0.12121212],\n",
       "       [0.03571429, 0.21212121],\n",
       "       [1.        , 0.27272727],\n",
       "       [0.82142857, 0.45454545],\n",
       "       [1.        , 0.21212121],\n",
       "       [0.46428571, 0.45454545],\n",
       "       [0.5       , 0.24242424],\n",
       "       [0.92857143, 0.27272727],\n",
       "       [0.67857143, 0.21212121],\n",
       "       [0.        , 0.21212121],\n",
       "       [0.82142857, 0.21212121],\n",
       "       [0.82142857, 0.18181818],\n",
       "       [0.82142857, 0.45454545],\n",
       "       [0.96428571, 0.21212121],\n",
       "       [0.96428571, 0.27272727],\n",
       "       [0.5       , 0.21212121],\n",
       "       [0.92857143, 0.27272727],\n",
       "       [0.64285714, 0.24242424],\n",
       "       [0.39285714, 0.45454545],\n",
       "       [1.        , 0.21212121],\n",
       "       [0.67857143, 0.15151515],\n",
       "       [0.82142857, 0.24242424],\n",
       "       [0.89285714, 0.27272727],\n",
       "       [0.82142857, 0.18181818],\n",
       "       [0.        , 0.21212121],\n",
       "       [0.03571429, 0.45454545],\n",
       "       [1.        , 0.18181818],\n",
       "       [0.89285714, 0.27272727],\n",
       "       [0.82142857, 0.27272727],\n",
       "       [0.64285714, 0.21212121],\n",
       "       [0.        , 0.27272727],\n",
       "       [0.82142857, 0.06060606],\n",
       "       [0.03571429, 0.45454545],\n",
       "       [0.96428571, 0.21212121],\n",
       "       [0.46428571, 0.24242424],\n",
       "       [0.82142857, 0.24242424],\n",
       "       [0.82142857, 0.27272727],\n",
       "       [1.        , 0.21212121],\n",
       "       [0.82142857, 0.21212121],\n",
       "       [0.78571429, 0.27272727],\n",
       "       [0.96428571, 0.18181818],\n",
       "       [0.89285714, 0.21212121],\n",
       "       [0.92857143, 0.21212121],\n",
       "       [0.46428571, 0.45454545],\n",
       "       [0.82142857, 0.18181818],\n",
       "       [0.        , 0.57575758],\n",
       "       [0.67857143, 0.15151515],\n",
       "       [0.96428571, 0.21212121],\n",
       "       [0.46428571, 0.21212121],\n",
       "       [0.92857143, 0.27272727],\n",
       "       [0.82142857, 0.18181818],\n",
       "       [0.        , 0.45454545],\n",
       "       [0.92857143, 0.12121212],\n",
       "       [0.        , 0.27272727],\n",
       "       [1.        , 0.21212121],\n",
       "       [0.39285714, 0.18181818],\n",
       "       [0.82142857, 0.24242424],\n",
       "       [0.        , 0.21212121],\n",
       "       [0.46428571, 0.15151515],\n",
       "       [0.78571429, 0.12121212],\n",
       "       [0.        , 0.18181818],\n",
       "       [0.35714286, 0.15151515],\n",
       "       [0.64285714, 1.        ],\n",
       "       [1.        , 0.21212121],\n",
       "       [0.82142857, 0.45454545],\n",
       "       [0.46428571, 0.24242424],\n",
       "       [0.75      , 0.21212121],\n",
       "       [0.96428571, 0.24242424],\n",
       "       [0.64285714, 0.21212121],\n",
       "       [0.82142857, 0.27272727],\n",
       "       [0.82142857, 0.27272727],\n",
       "       [1.        , 0.15151515],\n",
       "       [0.96428571, 0.21212121],\n",
       "       [0.39285714, 0.15151515],\n",
       "       [0.78571429, 0.24242424],\n",
       "       [0.        , 0.33333333],\n",
       "       [0.46428571, 0.21212121],\n",
       "       [0.82142857, 0.45454545],\n",
       "       [0.32142857, 0.21212121],\n",
       "       [0.82142857, 0.06060606],\n",
       "       [1.        , 0.15151515],\n",
       "       [0.        , 0.15151515],\n",
       "       [0.96428571, 0.21212121],\n",
       "       [0.78571429, 0.27272727],\n",
       "       [0.28571429, 0.27272727],\n",
       "       [0.46428571, 0.15151515],\n",
       "       [0.46428571, 0.21212121],\n",
       "       [0.82142857, 0.24242424],\n",
       "       [0.46428571, 0.18181818],\n",
       "       [0.46428571, 0.21212121],\n",
       "       [0.89285714, 0.06060606],\n",
       "       [0.35714286, 0.27272727],\n",
       "       [0.82142857, 1.        ],\n",
       "       [0.89285714, 0.21212121],\n",
       "       [0.67857143, 0.18181818],\n",
       "       [0.96428571, 0.27272727],\n",
       "       [0.82142857, 0.24242424],\n",
       "       [0.82142857, 0.27272727],\n",
       "       [0.82142857, 0.57575758],\n",
       "       [0.5       , 0.24242424],\n",
       "       [0.96428571, 0.21212121],\n",
       "       [0.46428571, 0.12121212],\n",
       "       [0.        , 0.15151515],\n",
       "       [0.        , 0.18181818],\n",
       "       [0.        , 0.36363636],\n",
       "       [0.78571429, 0.27272727],\n",
       "       [0.85714286, 0.27272727],\n",
       "       [0.64285714, 0.27272727],\n",
       "       [0.92857143, 0.15151515],\n",
       "       [0.67857143, 0.15151515],\n",
       "       [1.        , 0.15151515],\n",
       "       [1.        , 0.21212121],\n",
       "       [0.42857143, 0.18181818],\n",
       "       [0.5       , 0.21212121],\n",
       "       [0.46428571, 0.21212121],\n",
       "       [0.78571429, 0.27272727],\n",
       "       [0.28571429, 0.27272727],\n",
       "       [1.        , 1.        ],\n",
       "       [0.39285714, 0.21212121],\n",
       "       [0.67857143, 0.45454545],\n",
       "       [0.82142857, 0.21212121],\n",
       "       [0.46428571, 0.24242424],\n",
       "       [0.67857143, 0.27272727],\n",
       "       [0.82142857, 0.45454545],\n",
       "       [0.92857143, 0.12121212],\n",
       "       [0.82142857, 0.06060606],\n",
       "       [0.96428571, 0.21212121],\n",
       "       [0.92857143, 0.27272727],\n",
       "       [0.82142857, 0.27272727],\n",
       "       [0.42857143, 1.        ],\n",
       "       [0.96428571, 0.21212121],\n",
       "       [0.64285714, 0.21212121],\n",
       "       [0.82142857, 0.21212121],\n",
       "       [0.39285714, 0.18181818],\n",
       "       [0.28571429, 0.27272727],\n",
       "       [0.78571429, 0.12121212],\n",
       "       [0.82142857, 0.06060606],\n",
       "       [0.5       , 0.06060606],\n",
       "       [0.78571429, 0.27272727],\n",
       "       [0.89285714, 0.18181818],\n",
       "       [0.46428571, 0.27272727],\n",
       "       [0.64285714, 0.27272727],\n",
       "       [0.89285714, 0.21212121],\n",
       "       [0.82142857, 0.18181818],\n",
       "       [0.35714286, 0.27272727],\n",
       "       [1.        , 0.21212121]])"
      ]
     },
     "execution_count": 95,
     "metadata": {},
     "output_type": "execute_result"
    }
   ],
   "source": [
    "f1 = 'Reason for absence'\n",
    "f2 = 'Height'\n",
    "basex = np.array(xtrain[[f1,f2]])\n",
    "xtest = np.array(xtest[[f1,f2]])\n"
   ]
  },
  {
   "cell_type": "code",
   "execution_count": 92,
   "metadata": {},
   "outputs": [
    {
     "ename": "TypeError",
     "evalue": "cannot unpack non-iterable NoneType object",
     "output_type": "error",
     "traceback": [
      "\u001b[1;31m---------------------------------------------------------------------------\u001b[0m",
      "\u001b[1;31mTypeError\u001b[0m                                 Traceback (most recent call last)",
      "\u001b[1;32m<ipython-input-92-c88e4a3a941b>\u001b[0m in \u001b[0;36m<module>\u001b[1;34m\u001b[0m\n\u001b[1;32m----> 1\u001b[1;33m \u001b[0mcentroids\u001b[0m\u001b[1;33m,\u001b[0m \u001b[0mclassifications\u001b[0m \u001b[1;33m=\u001b[0m \u001b[0mfit\u001b[0m\u001b[1;33m(\u001b[0m\u001b[0mbasex\u001b[0m\u001b[1;33m,\u001b[0m\u001b[0mk\u001b[0m\u001b[1;33m,\u001b[0m\u001b[1;36m500\u001b[0m\u001b[1;33m,\u001b[0m\u001b[0mcent_change\u001b[0m\u001b[1;33m)\u001b[0m\u001b[1;33m\u001b[0m\u001b[1;33m\u001b[0m\u001b[0m\n\u001b[0m",
      "\u001b[1;31mTypeError\u001b[0m: cannot unpack non-iterable NoneType object"
     ]
    }
   ],
   "source": [
    "centroids, classifications = fit(basex,k,500,cent_change)"
   ]
  },
  {
   "cell_type": "code",
   "execution_count": 75,
   "metadata": {},
   "outputs": [
    {
     "name": "stdout",
     "output_type": "stream",
     "text": [
      "{0: array([0.74421769, 0.201443  ]), 1: array([0.29173838, 0.32347572]), 2: array([0.92596877, 0.27284996]), 3: nan}\n"
     ]
    }
   ],
   "source": [
    "print(centroids)"
   ]
  },
  {
   "cell_type": "code",
   "execution_count": 76,
   "metadata": {},
   "outputs": [],
   "source": [
    "colors = 3* ['g','r','c','b','k','y']\n"
   ]
  },
  {
   "cell_type": "code",
   "execution_count": 77,
   "metadata": {},
   "outputs": [
    {
     "ename": "IndexError",
     "evalue": "invalid index to scalar variable.",
     "output_type": "error",
     "traceback": [
      "\u001b[1;31m---------------------------------------------------------------------------\u001b[0m",
      "\u001b[1;31mIndexError\u001b[0m                                Traceback (most recent call last)",
      "\u001b[1;32m<ipython-input-77-4494d264e73f>\u001b[0m in \u001b[0;36m<module>\u001b[1;34m\u001b[0m\n\u001b[0;32m      1\u001b[0m \u001b[1;32mfor\u001b[0m \u001b[0mcentroid\u001b[0m \u001b[1;32min\u001b[0m \u001b[0mcentroids\u001b[0m\u001b[1;33m:\u001b[0m\u001b[1;33m\u001b[0m\u001b[1;33m\u001b[0m\u001b[0m\n\u001b[1;32m----> 2\u001b[1;33m     \u001b[0mplt\u001b[0m\u001b[1;33m.\u001b[0m\u001b[0mscatter\u001b[0m\u001b[1;33m(\u001b[0m\u001b[0mcentroids\u001b[0m\u001b[1;33m[\u001b[0m\u001b[0mcentroid\u001b[0m\u001b[1;33m]\u001b[0m\u001b[1;33m[\u001b[0m\u001b[1;36m0\u001b[0m\u001b[1;33m]\u001b[0m\u001b[1;33m,\u001b[0m \u001b[0mcentroids\u001b[0m\u001b[1;33m[\u001b[0m\u001b[0mcentroid\u001b[0m\u001b[1;33m]\u001b[0m\u001b[1;33m[\u001b[0m\u001b[1;36m1\u001b[0m\u001b[1;33m]\u001b[0m\u001b[1;33m,\u001b[0m \u001b[0mmarker\u001b[0m \u001b[1;33m=\u001b[0m \u001b[1;34m'o'\u001b[0m\u001b[1;33m,\u001b[0m \u001b[0mcolor\u001b[0m \u001b[1;33m=\u001b[0m \u001b[1;34m'k'\u001b[0m\u001b[1;33m,\u001b[0m \u001b[0ms\u001b[0m\u001b[1;33m=\u001b[0m\u001b[1;36m50\u001b[0m\u001b[1;33m)\u001b[0m\u001b[1;33m\u001b[0m\u001b[1;33m\u001b[0m\u001b[0m\n\u001b[0m\u001b[0;32m      3\u001b[0m \u001b[1;33m\u001b[0m\u001b[0m\n\u001b[0;32m      4\u001b[0m \u001b[1;32mfor\u001b[0m \u001b[0mclassification\u001b[0m \u001b[1;32min\u001b[0m \u001b[0mclassifications\u001b[0m\u001b[1;33m:\u001b[0m\u001b[1;33m\u001b[0m\u001b[1;33m\u001b[0m\u001b[0m\n\u001b[0;32m      5\u001b[0m     \u001b[0mcolor\u001b[0m \u001b[1;33m=\u001b[0m \u001b[0mcolors\u001b[0m\u001b[1;33m[\u001b[0m\u001b[0mclassification\u001b[0m\u001b[1;33m]\u001b[0m\u001b[1;33m\u001b[0m\u001b[1;33m\u001b[0m\u001b[0m\n",
      "\u001b[1;31mIndexError\u001b[0m: invalid index to scalar variable."
     ]
    },
    {
     "data": {
      "image/png": "[encoded data removed]",
      "text/plain": [
       "<Figure size 432x288 with 1 Axes>"
      ]
     },
     "metadata": {
      "needs_background": "light"
     },
     "output_type": "display_data"
    }
   ],
   "source": [
    "for centroid in centroids:\n",
    "    plt.scatter(centroids[centroid][0], centroids[centroid][1], marker = 'o', color = 'k', s=50)\n",
    "    \n",
    "for classification in classifications:\n",
    "    color = colors[classification]\n",
    "    for next_datapoint in classifications[classification]:\n",
    "        plt.scatter(next_datapoint[0],next_datapoint[1], marker = \"+\", s=50)\n",
    "        \n",
    "\n",
    "for test in xtest:\n",
    "    classification = predict(test, centroids)\n",
    "    plt.scatter(test[0],test[1], marker = '*', color = colors[classification], s=100)"
   ]
  },
  {
   "cell_type": "code",
   "execution_count": null,
   "metadata": {},
   "outputs": [],
   "source": []
  },
  {
   "cell_type": "code",
   "execution_count": null,
   "metadata": {},
   "outputs": [],
   "source": []
  }
 ],
 "metadata": {
  "kernelspec": {
   "display_name": "Python 3",
   "language": "python",
   "name": "python3"
  },
  "language_info": {
   "codemirror_mode": {
    "name": "ipython",
    "version": 3
   },
   "file_extension": ".py",
   "mimetype": "text/x-python",
   "name": "python",
   "nbconvert_exporter": "python",
   "pygments_lexer": "ipython3",
   "version": "3.7.1"
  }
 },
 "nbformat": 4,
 "nbformat_minor": 2
}
