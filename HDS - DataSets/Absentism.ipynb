{
 "cells": [
  {
   "cell_type": "code",
   "execution_count": 1,
   "metadata": {},
   "outputs": [],
   "source": [
    "import numpy as np\n",
    "import pandas as pd\n",
    "import matplotlib.pyplot as plt\n",
    "from sklearn.model_selection import train_test_split"
   ]
  },
  {
   "cell_type": "code",
   "execution_count": 2,
   "metadata": {},
   "outputs": [],
   "source": [
    "data = pd.read_excel(\"./Absenteeism_at_work.xls\", index_col=0)\n"
   ]
  },
  {
   "cell_type": "code",
   "execution_count": 3,
   "metadata": {},
   "outputs": [
    {
     "data": {
      "text/plain": [
       "Index(['Reason for absence', 'Month of absence', 'Day of the week', 'Seasons',\n",
       "       'Transportation expense', 'Distance from Residence to Work',\n",
       "       'Service time', 'Age', 'Work load Average/day ', 'Hit target',\n",
       "       'Disciplinary failure', 'Education', 'Son', 'Social drinker',\n",
       "       'Social smoker', 'Pet', 'Weight', 'Height', 'Body mass index',\n",
       "       'Absenteeism time in hours'],\n",
       "      dtype='object')"
      ]
     },
     "execution_count": 3,
     "metadata": {},
     "output_type": "execute_result"
    }
   ],
   "source": [
    "data.keys()\n",
    "    "
   ]
  },
  {
   "cell_type": "code",
   "execution_count": 4,
   "metadata": {},
   "outputs": [
    {
     "data": {
      "text/plain": [
       "Seasons                            0.005615\n",
       "Social smoker                      0.008936\n",
       "Weight                             0.015789\n",
       "Service time                       0.019029\n",
       "Month of absence                   0.024345\n",
       "Work load Average/day              0.024749\n",
       "Hit target                         0.026695\n",
       "Transportation expense             0.027585\n",
       "Pet                                0.028277\n",
       "Education                          0.046235\n",
       "Body mass index                    0.049719\n",
       "Social drinker                     0.065067\n",
       "Age                                0.065760\n",
       "Distance from Residence to Work    0.088363\n",
       "Son                                0.113756\n",
       "Disciplinary failure               0.124248\n",
       "Day of the week                    0.124361\n",
       "Height                             0.144420\n",
       "Reason for absence                 0.173116\n",
       "Absenteeism time in hours          1.000000\n",
       "Name: Absenteeism time in hours, dtype: float64"
      ]
     },
     "execution_count": 4,
     "metadata": {},
     "output_type": "execute_result"
    }
   ],
   "source": [
    "correlation = data.corr('pearson')\n",
    "abs(correlation['Absenteeism time in hours']).sort_values()"
   ]
  },
  {
   "cell_type": "code",
   "execution_count": 5,
   "metadata": {},
   "outputs": [],
   "source": [
    "k=3\n",
    "cent_change = 0.0001 #change in centroid\n",
    "max_iter = 300"
   ]
  },
  {
   "cell_type": "code",
   "execution_count": 6,
   "metadata": {},
   "outputs": [],
   "source": [
    "def fit(data, k, max_iter, tol):\n",
    "    \n",
    "    centroids = {}\n",
    "    for i in range(k):\n",
    "        centroids[i] = data[i] #centroid:datas\n",
    "        \n",
    "    for i in range(max_iter):\n",
    "        classifications = {} #initialisation\n",
    "        \n",
    "        for i in range(k):\n",
    "            classifications[i] = []\n",
    "            \n",
    "        for featureset in data:\n",
    "            distances = [np.linalg.norm(featureset-centroids[centroid])for centroid in centroids] #difference of distance and centroids\n",
    "            classification = distances.index(min(distances)) # index of minimun distance centroid\n",
    "            classifications[classification].append(featureset) # append feature to min disatnce centroid\n",
    "            \n",
    "        prev_centroids = dict(centroids) #prev centroid val\n",
    "        \n",
    "        for classification in classifications:\n",
    "            centroids[classification] = np.average(classifications[classification], axis =0) # new centroid value\n",
    "        optimized = True\n",
    "        \n",
    "        for c in centroids:\n",
    "            original_centroid = prev_centroids[c]\n",
    "            current_centroid = centroids[c]\n",
    "            if np.sum((current_centroid - original_centroid)/(original_centroid*100.0))> tol:\n",
    "                optimized = False\n",
    "                \n",
    "        if optimized:\n",
    "            break\n",
    "        return centroids, classifications"
   ]
  },
  {
   "cell_type": "code",
   "execution_count": 7,
   "metadata": {},
   "outputs": [],
   "source": [
    "def predict(data, centroids):\n",
    "    distances = [np.linalg.norm(data-centroids[centroid]) for centroid in centroids]\n",
    "    classification = distances.index(min(distances))\n",
    "    return classification"
   ]
  },
  {
   "cell_type": "code",
   "execution_count": 8,
   "metadata": {},
   "outputs": [],
   "source": [
    "X =data.drop(['Absenteeism time in hours'], axis=1)\n",
    "x = (X-X.min())/(X.max() - X.min())"
   ]
  },
  {
   "cell_type": "code",
   "execution_count": 9,
   "metadata": {},
   "outputs": [],
   "source": [
    "xtrain, xtest = train_test_split(x,test_size=0.3)"
   ]
  },
  {
   "cell_type": "code",
   "execution_count": 10,
   "metadata": {},
   "outputs": [],
   "source": [
    "f1 = 'Reason for absence'\n",
    "f2 = 'Height'\n",
    "basex = np.array(xtrain[[f1,f2]])\n",
    "xtest = np.array(xtest[[f1,f2]])\n"
   ]
  },
  {
   "cell_type": "code",
   "execution_count": 11,
   "metadata": {},
   "outputs": [],
   "source": [
    "centroids, classifications = fit(basex,k,500,cent_change)"
   ]
  },
  {
   "cell_type": "code",
   "execution_count": 12,
   "metadata": {},
   "outputs": [
    {
     "name": "stdout",
     "output_type": "stream",
     "text": [
      "{0: array([0.87232386, 0.2707456 ]), 1: array([0.08227041, 0.31764069]), 2: array([0.42669173, 0.27336523])}\n"
     ]
    }
   ],
   "source": [
    "print(centroids)"
   ]
  },
  {
   "cell_type": "code",
   "execution_count": 13,
   "metadata": {},
   "outputs": [],
   "source": [
    "colors = 3* ['g','r','c','b','k','y']\n"
   ]
  },
  {
   "cell_type": "code",
   "execution_count": 14,
   "metadata": {},
   "outputs": [
    {
     "data": {
      "image/png": "[encoded data removed]",
      "text/plain": [
       "<Figure size 432x288 with 1 Axes>"
      ]
     },
     "metadata": {
      "needs_background": "light"
     },
     "output_type": "display_data"
    }
   ],
   "source": [
    "for centroid in centroids:\n",
    "    plt.scatter(centroids[centroid][0], centroids[centroid][1], marker = 'o', color = 'k', s=50)\n",
    "    \n",
    "for classification in classifications:\n",
    "    color = colors[classification]\n",
    "    for next_datapoint in classifications[classification]:\n",
    "        plt.scatter(next_datapoint[0],next_datapoint[1], marker = \"+\", s=50)\n",
    "        \n",
    "\n",
    "for test in xtest:\n",
    "    classification = predict(test, centroids)\n",
    "    plt.scatter(test[0],test[1], marker = '*', color = colors[classification], s=100)"
   ]
  },
  {
   "cell_type": "code",
   "execution_count": null,
   "metadata": {},
   "outputs": [],
   "source": []
  },
  {
   "cell_type": "code",
   "execution_count": null,
   "metadata": {},
   "outputs": [],
   "source": []
  }
 ],
 "metadata": {
  "kernelspec": {
   "display_name": "Python 3",
   "language": "python",
   "name": "python3"
  },
  "language_info": {
   "codemirror_mode": {
    "name": "ipython",
    "version": 3
   },
   "file_extension": ".py",
   "mimetype": "text/x-python",
   "name": "python",
   "nbconvert_exporter": "python",
   "pygments_lexer": "ipython3",
   "version": "3.7.1"
  }
 },
 "nbformat": 4,
 "nbformat_minor": 2
}
