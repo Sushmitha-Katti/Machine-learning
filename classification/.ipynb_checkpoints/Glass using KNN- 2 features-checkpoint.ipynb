{
 "cells": [
  {
   "cell_type": "code",
   "execution_count": 115,
   "metadata": {},
   "outputs": [],
   "source": [
    "import numpy as np\n",
    "import pandas as pd\n",
    "import matplotlib.pyplot as plt\n",
    "\n",
    "from sklearn.model_selection import train_test_split\n",
    "\n"
   ]
  },
  {
   "cell_type": "code",
   "execution_count": 238,
   "metadata": {},
   "outputs": [
    {
     "name": "stdout",
     "output_type": "stream",
     "text": [
      "1926\n"
     ]
    },
    {
     "data": {
      "text/plain": [
       "3    -0.744993\n",
       "9    -0.188278\n",
       "1    -0.164237\n",
       "6    -0.010054\n",
       "7     0.000952\n",
       "5     0.151565\n",
       "2     0.502898\n",
       "8     0.575161\n",
       "4     0.598829\n",
       "10    1.000000\n",
       "Name: 10, dtype: float64"
      ]
     },
     "execution_count": 238,
     "metadata": {},
     "output_type": "execute_result"
    }
   ],
   "source": [
    "\n",
    "filename = 'glass.data.csv'\n",
    "\n",
    "names = np.arange(11)\n",
    "#raw_data = open(filename, 'rt')\n",
    "data = pd.read_csv(filename, names=names)\n",
    "data = data.loc[:,1:10]\n",
    "\n",
    "features = data.loc[:,1:9]\n",
    "target = data.loc[:,10]\n",
    "print(features.size)\n",
    "correlation = data.corr('pearson')\n",
    "(correlation[10].sort_values())\n"
   ]
  },
  {
   "cell_type": "code",
   "execution_count": 187,
   "metadata": {},
   "outputs": [
    {
     "data": {
      "text/plain": [
       "1926"
      ]
     },
     "execution_count": 187,
     "metadata": {},
     "output_type": "execute_result"
    }
   ],
   "source": [
    "\n",
    "\n"
   ]
  },
  {
   "cell_type": "code",
   "execution_count": 245,
   "metadata": {},
   "outputs": [
    {
     "data": {
      "text/plain": [
       "(214, 9)"
      ]
     },
     "execution_count": 245,
     "metadata": {},
     "output_type": "execute_result"
    }
   ],
   "source": [
    "\n",
    "\n",
    "features = (features-features.min()) / (features.max()-features.min())\n",
    "features.shape"
   ]
  },
  {
   "cell_type": "code",
   "execution_count": 200,
   "metadata": {},
   "outputs": [],
   "source": [
    "xtrain, xtest, ytrain, ytest = train_test_split(features,target, test_size=0.3)"
   ]
  },
  {
   "cell_type": "code",
   "execution_count": 248,
   "metadata": {},
   "outputs": [
    {
     "data": {
      "text/plain": [
       "137    2\n",
       "126    2\n",
       "1      1\n",
       "16     1\n",
       "59     1\n",
       "83     2\n",
       "102    2\n",
       "167    5\n",
       "211    7\n",
       "191    7\n",
       "194    7\n",
       "3      1\n",
       "188    7\n",
       "19     1\n",
       "183    6\n",
       "198    7\n",
       "184    6\n",
       "146    3\n",
       "136    2\n",
       "115    2\n",
       "122    2\n",
       "91     2\n",
       "212    7\n",
       "206    7\n",
       "182    6\n",
       "199    7\n",
       "5      1\n",
       "181    6\n",
       "58     1\n",
       "111    2\n",
       "      ..\n",
       "160    3\n",
       "98     2\n",
       "75     2\n",
       "170    5\n",
       "140    2\n",
       "44     1\n",
       "61     1\n",
       "163    5\n",
       "117    2\n",
       "21     1\n",
       "55     1\n",
       "190    7\n",
       "38     1\n",
       "67     1\n",
       "41     1\n",
       "192    7\n",
       "157    3\n",
       "23     1\n",
       "95     2\n",
       "37     1\n",
       "8      1\n",
       "161    3\n",
       "164    5\n",
       "152    3\n",
       "86     2\n",
       "28     1\n",
       "43     1\n",
       "87     2\n",
       "156    3\n",
       "29     1\n",
       "Name: 10, Length: 149, dtype: int64"
      ]
     },
     "execution_count": 248,
     "metadata": {},
     "output_type": "execute_result"
    }
   ],
   "source": []
  },
  {
   "cell_type": "code",
   "execution_count": 247,
   "metadata": {},
   "outputs": [
    {
     "data": {
      "text/plain": [
       "(65,)"
      ]
     },
     "execution_count": 247,
     "metadata": {},
     "output_type": "execute_result"
    }
   ],
   "source": [
    "ytest.shape"
   ]
  },
  {
   "cell_type": "code",
   "execution_count": 244,
   "metadata": {},
   "outputs": [
    {
     "ename": "IndexError",
     "evalue": "index 3 is out of bounds for axis 0 with size 2",
     "output_type": "error",
     "traceback": [
      "\u001b[1;31m---------------------------------------------------------------------------\u001b[0m",
      "\u001b[1;31mIndexError\u001b[0m                                Traceback (most recent call last)",
      "\u001b[1;32m<ipython-input-244-dfb0ea404959>\u001b[0m in \u001b[0;36m<module>\u001b[1;34m\u001b[0m\n\u001b[0;32m      5\u001b[0m \u001b[0mbasey\u001b[0m \u001b[1;33m=\u001b[0m \u001b[0mnp\u001b[0m\u001b[1;33m.\u001b[0m\u001b[0marray\u001b[0m\u001b[1;33m(\u001b[0m\u001b[0mytrain\u001b[0m\u001b[1;33m)\u001b[0m\u001b[1;33m\u001b[0m\u001b[1;33m\u001b[0m\u001b[0m\n\u001b[0;32m      6\u001b[0m \u001b[1;33m\u001b[0m\u001b[0m\n\u001b[1;32m----> 7\u001b[1;33m \u001b[0mxtest\u001b[0m \u001b[1;33m=\u001b[0m \u001b[0mnp\u001b[0m\u001b[1;33m.\u001b[0m\u001b[0marray\u001b[0m\u001b[1;33m(\u001b[0m\u001b[0mxtest\u001b[0m\u001b[1;33m[\u001b[0m\u001b[1;33m[\u001b[0m\u001b[0mf1\u001b[0m\u001b[1;33m,\u001b[0m\u001b[0mf2\u001b[0m\u001b[1;33m]\u001b[0m\u001b[1;33m]\u001b[0m\u001b[1;33m)\u001b[0m\u001b[1;33m\u001b[0m\u001b[1;33m\u001b[0m\u001b[0m\n\u001b[0m\u001b[0;32m      8\u001b[0m \u001b[0mytest\u001b[0m \u001b[1;33m=\u001b[0m \u001b[0mnp\u001b[0m\u001b[1;33m.\u001b[0m\u001b[0marray\u001b[0m\u001b[1;33m(\u001b[0m\u001b[0mytest\u001b[0m\u001b[1;33m)\u001b[0m\u001b[1;33m\u001b[0m\u001b[1;33m\u001b[0m\u001b[0m\n",
      "\u001b[1;31mIndexError\u001b[0m: index 3 is out of bounds for axis 0 with size 2"
     ]
    }
   ],
   "source": [
    "f1 = 3\n",
    "f2 = 4\n",
    "\n",
    "basex = np.array(xtrain[[f1,f2]])\n",
    "basey = np.array(ytrain)\n",
    "\n",
    "xtest = np.array(xtest[[f1,f2]])\n",
    "ytest = np.array(ytest)\n"
   ]
  },
  {
   "cell_type": "code",
   "execution_count": 212,
   "metadata": {},
   "outputs": [
    {
     "name": "stdout",
     "output_type": "stream",
     "text": [
      "(149, 2) (149, 1)\n"
     ]
    }
   ],
   "source": [
    "x = pd.DataFrame(basex)\n",
    "y = pd.DataFrame(basey)\n",
    "print(x.shape,y.shape)\n",
    "\n"
   ]
  },
  {
   "cell_type": "code",
   "execution_count": 213,
   "metadata": {},
   "outputs": [
    {
     "data": {
      "text/plain": [
       "14.628738838327793"
      ]
     },
     "execution_count": 213,
     "metadata": {},
     "output_type": "execute_result"
    }
   ],
   "source": [
    "k= np.sqrt(len(X))\n",
    "k"
   ]
  },
  {
   "cell_type": "code",
   "execution_count": 214,
   "metadata": {},
   "outputs": [],
   "source": [
    "def euclid_distance(train_point, given_point):\n",
    "    distance = np.sum((train_point-given_point)**2)\n",
    "    return np.sqrt(distance)"
   ]
  },
  {
   "cell_type": "code",
   "execution_count": 215,
   "metadata": {},
   "outputs": [],
   "source": [
    "def calc_distance_from_all(all_points, given_point, predictions):\n",
    "    all_distances = []\n",
    "    for i, each in enumerate(all_points):\n",
    "        distance = euclid_distance(each, given_point)\n",
    "        all_distances.append((distance,int(predictions[i])))\n",
    "    all_distances.sort(key=lambda tup: tup[0])\n",
    "    return all_distances\n"
   ]
  },
  {
   "cell_type": "code",
   "execution_count": 216,
   "metadata": {},
   "outputs": [],
   "source": [
    "def get_neighbours(distances, count):\n",
    "    return distances[:count]\n"
   ]
  },
  {
   "cell_type": "code",
   "execution_count": 217,
   "metadata": {},
   "outputs": [],
   "source": [
    "def predict(all_points, given_point, predictions):\n",
    "    distances = calc_distance_from_all(all_points,given_point,predictions)\n",
    "    neighbours = get_neighbours(distances, 7)\n",
    "    \n",
    "    op = [row[-1] for row in neighbours]\n",
    "    prediction = max(set(op), key=op.count)\n",
    "    return prediction"
   ]
  },
  {
   "cell_type": "code",
   "execution_count": 234,
   "metadata": {},
   "outputs": [],
   "source": [
    "def accuracy(basex, basey, testx, testy):\n",
    "    correct = 0 \n",
    "    \n",
    "    for i in range(len(testx)):\n",
    "        p = predict(basex, testx[i], basey)\n",
    "        if p == testy[i]:\n",
    "            correct += 1\n",
    "            \n",
    "    return f\"Accuracy: {correct*100/len(testy)}%\""
   ]
  },
  {
   "cell_type": "code",
   "execution_count": null,
   "metadata": {},
   "outputs": [],
   "source": []
  },
  {
   "cell_type": "code",
   "execution_count": 235,
   "metadata": {},
   "outputs": [
    {
     "name": "stdout",
     "output_type": "stream",
     "text": [
      "Accuracy: 66.15384615384616%\n"
     ]
    }
   ],
   "source": [
    "print(accuracy(basex,basey,xtest,ytest))\n"
   ]
  },
  {
   "cell_type": "code",
   "execution_count": null,
   "metadata": {},
   "outputs": [],
   "source": []
  },
  {
   "cell_type": "code",
   "execution_count": null,
   "metadata": {},
   "outputs": [],
   "source": []
  },
  {
   "cell_type": "code",
   "execution_count": null,
   "metadata": {},
   "outputs": [],
   "source": []
  }
 ],
 "metadata": {
  "kernelspec": {
   "display_name": "Python 3",
   "language": "python",
   "name": "python3"
  },
  "language_info": {
   "codemirror_mode": {
    "name": "ipython",
    "version": 3
   },
   "file_extension": ".py",
   "mimetype": "text/x-python",
   "name": "python",
   "nbconvert_exporter": "python",
   "pygments_lexer": "ipython3",
   "version": "3.7.1"
  }
 },
 "nbformat": 4,
 "nbformat_minor": 2
}
