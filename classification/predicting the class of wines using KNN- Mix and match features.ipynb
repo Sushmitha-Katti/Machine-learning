{
 "cells": [
  {
   "cell_type": "code",
   "execution_count": 66,
   "metadata": {},
   "outputs": [],
   "source": [
    "import numpy as np\n",
    "import pandas as pd\n",
    "import matplotlib.pyplot as plt\n",
    "\n",
    "from sklearn.model_selection import train_test_split\n",
    "from sklearn.datasets import load_wine\n"
   ]
  },
  {
   "cell_type": "code",
   "execution_count": 128,
   "metadata": {},
   "outputs": [
    {
     "data": {
      "text/plain": [
       "ash                             0.049643\n",
       "magnesium                       0.209179\n",
       "color_intensity                 0.265668\n",
       "alcohol                         0.328222\n",
       "malic_acid                      0.437776\n",
       "nonflavanoid_phenols            0.489109\n",
       "proanthocyanins                 0.499130\n",
       "alcalinity_of_ash               0.517859\n",
       "hue                             0.617369\n",
       "proline                         0.633717\n",
       "total_phenols                   0.719163\n",
       "od280/od315_of_diluted_wines    0.788230\n",
       "flavanoids                      0.847498\n",
       "target                          1.000000\n",
       "Name: target, dtype: float64"
      ]
     },
     "execution_count": 128,
     "metadata": {},
     "output_type": "execute_result"
    }
   ],
   "source": [
    "wine = load_wine()\n",
    "X = pd.DataFrame(wine.data, columns=wine.feature_names)\n",
    "Y = pd.DataFrame(wine.target, columns=['target'])\n",
    "data = pd.concat([X, Y], axis=1)\n",
    "correlation = data.corr('pearson')\n",
    "abs(correlation['target']).sort_values()\n"
   ]
  },
  {
   "cell_type": "code",
   "execution_count": 68,
   "metadata": {},
   "outputs": [],
   "source": [
    "X = (X-X.min()) / (X.max()-X.min())"
   ]
  },
  {
   "cell_type": "code",
   "execution_count": 69,
   "metadata": {},
   "outputs": [],
   "source": [
    "xtrain, xtest,ytrain,ytest = train_test_split(X,Y, test_size=0.3)\n",
    "#xtest = np.array(xtest[[f1, f2]])"
   ]
  },
  {
   "cell_type": "code",
   "execution_count": 70,
   "metadata": {},
   "outputs": [],
   "source": [
    "#f1 = 'flavanoids'\n",
    "#f2 = 'proline'\n",
    "\n",
    "#basex = np.array(xtrain[[f1, f2]])\n",
    "#basey = np.array(ytrain['target'])\n",
    "\n",
    "#ytest = np.array(ytest['target'])"
   ]
  },
  {
   "cell_type": "code",
   "execution_count": null,
   "metadata": {},
   "outputs": [],
   "source": []
  },
  {
   "cell_type": "code",
   "execution_count": 71,
   "metadata": {},
   "outputs": [
    {
     "data": {
      "text/plain": [
       "['alcohol',\n",
       " 'malic_acid',\n",
       " 'ash',\n",
       " 'alcalinity_of_ash',\n",
       " 'magnesium',\n",
       " 'total_phenols',\n",
       " 'flavanoids',\n",
       " 'nonflavanoid_phenols',\n",
       " 'proanthocyanins',\n",
       " 'color_intensity',\n",
       " 'hue',\n",
       " 'od280/od315_of_diluted_wines',\n",
       " 'proline']"
      ]
     },
     "execution_count": 71,
     "metadata": {},
     "output_type": "execute_result"
    }
   ],
   "source": [
    "wine.feature_names\n"
   ]
  },
  {
   "cell_type": "code",
   "execution_count": 72,
   "metadata": {},
   "outputs": [],
   "source": [
    "#x = pd.DataFrame(basex)\n",
    "#y = basey\n",
    "\n",
    "#plt.scatter(x.iloc[:,0], x.iloc[:,1],c=y.ravel(), s=15)\n",
    "#plt.scatter(0.25, 0.2, c='r', marker='x', s=100)"
   ]
  },
  {
   "cell_type": "code",
   "execution_count": 73,
   "metadata": {},
   "outputs": [
    {
     "data": {
      "text/plain": [
       "13.341664064126334"
      ]
     },
     "execution_count": 73,
     "metadata": {},
     "output_type": "execute_result"
    }
   ],
   "source": [
    "k= np.sqrt(len(X))\n",
    "k"
   ]
  },
  {
   "cell_type": "code",
   "execution_count": 74,
   "metadata": {},
   "outputs": [],
   "source": [
    "def euclid_distance(train_point, given_point):\n",
    "    distance = np.sum((train_point-given_point)**2)\n",
    "    return np.sqrt(distance)"
   ]
  },
  {
   "cell_type": "code",
   "execution_count": 75,
   "metadata": {},
   "outputs": [],
   "source": [
    "def calc_distance_from_all(all_points, given_point, predictions):\n",
    "    all_distances = []\n",
    "    for i, each in enumerate(all_points):\n",
    "        distance = euclid_distance(each, given_point)\n",
    "        all_distances.append((distance,int(predictions[i])))\n",
    "    all_distances.sort(key=lambda tup: tup[0])\n",
    "    return all_distances\n"
   ]
  },
  {
   "cell_type": "code",
   "execution_count": 173,
   "metadata": {},
   "outputs": [],
   "source": [
    "def get_neighbours(distances, count):\n",
    "    return distances[:count]\n"
   ]
  },
  {
   "cell_type": "code",
   "execution_count": 174,
   "metadata": {},
   "outputs": [],
   "source": [
    "def predict(all_points, given_point, predictions,k):\n",
    "    distances = calc_distance_from_all(all_points,given_point,predictions)\n",
    "    neighbours = get_neighbours(distances, k)\n",
    "    \n",
    "    op = [row[-1] for row in neighbours]\n",
    "    prediction = max(set(op), key=op.count)\n",
    "    return prediction"
   ]
  },
  {
   "cell_type": "code",
   "execution_count": 175,
   "metadata": {},
   "outputs": [],
   "source": [
    "def accuracy(basex, basey, testx, testy,k):\n",
    "    correct = 0 \n",
    "    \n",
    "    \n",
    "    for i in range(len(testx)):\n",
    "        p = predict(basex, testx[i], basey,k)\n",
    "       \n",
    "        if p == testy[i]:\n",
    "            correct += 1\n",
    "            \n",
    "    return correct*100/len(testy)"
   ]
  },
  {
   "cell_type": "code",
   "execution_count": 176,
   "metadata": {},
   "outputs": [
    {
     "name": "stdout",
     "output_type": "stream",
     "text": [
      "13\n"
     ]
    }
   ],
   "source": [
    "print(len(wine.feature_names))"
   ]
  },
  {
   "cell_type": "code",
   "execution_count": 177,
   "metadata": {},
   "outputs": [],
   "source": [
    "#print(accuracy(basex,basey,xtest,ytest))"
   ]
  },
  {
   "cell_type": "code",
   "execution_count": 181,
   "metadata": {},
   "outputs": [],
   "source": [
    "def predaccuracy(xtrain, ytrain, testx,testy, features,k):\n",
    "    highaccuracy =0\n",
    "    f1 = \"\"\n",
    "    f2 = \"\"\n",
    "\n",
    "    for i in range(13):\n",
    "        for j in range(13):\n",
    "            basex = np.array(xtrain[[features[i], features[i]]])\n",
    "            basey = np.array(ytrain['target'])\n",
    "            xtest = np.array(testx[[features[i], features[j]]])\n",
    "            ytest = np.array(testy['target'])\n",
    "            \n",
    "            acc = accuracy(basex,basey,xtest,ytest,k)\n",
    "            if highaccuracy < acc:\n",
    "                highaccuracy = acc\n",
    "                f1 = features[i]\n",
    "                f2 = features[j]\n",
    "    return  highaccuracy,f1,f2\n",
    "           \n",
    "    \n",
    "    "
   ]
  },
  {
   "cell_type": "code",
   "execution_count": 182,
   "metadata": {},
   "outputs": [],
   "source": [
    "#print(predaccuracy(xtrain, ytrain, xtest,ytest, wine.feature_names))"
   ]
  },
  {
   "cell_type": "code",
   "execution_count": 187,
   "metadata": {},
   "outputs": [
    {
     "name": "stdout",
     "output_type": "stream",
     "text": [
      "k:1(75.92592592592592, 'flavanoids', 'od280/od315_of_diluted_wines')\n",
      "k:2(72.22222222222223, 'proline', 'magnesium')\n",
      "k:3(81.48148148148148, 'flavanoids', 'hue')\n",
      "k:4(81.48148148148148, 'hue', 'flavanoids')\n",
      "k:5(81.48148148148148, 'hue', 'flavanoids')\n",
      "k:6(81.48148148148148, 'hue', 'flavanoids')\n",
      "k:7(81.48148148148148, 'flavanoids', 'hue')\n",
      "k:8(79.62962962962963, 'flavanoids', 'hue')\n",
      "k:9(77.77777777777777, 'flavanoids', 'hue')\n",
      "k:10(77.77777777777777, 'flavanoids', 'hue')\n",
      "k:11(79.62962962962963, 'flavanoids', 'hue')\n",
      "k:12(79.62962962962963, 'hue', 'flavanoids')\n"
     ]
    }
   ],
   "source": [
    "for i in range(12):\n",
    "    \n",
    "    print(f'k:{i+1}{predaccuracy(xtrain, ytrain, xtest,ytest, wine.feature_names,i+1)}')\n",
    "    \n",
    "    "
   ]
  },
  {
   "cell_type": "code",
   "execution_count": null,
   "metadata": {},
   "outputs": [],
   "source": []
  }
 ],
 "metadata": {
  "kernelspec": {
   "display_name": "Python 3",
   "language": "python",
   "name": "python3"
  },
  "language_info": {
   "codemirror_mode": {
    "name": "ipython",
    "version": 3
   },
   "file_extension": ".py",
   "mimetype": "text/x-python",
   "name": "python",
   "nbconvert_exporter": "python",
   "pygments_lexer": "ipython3",
   "version": "3.7.1"
  }
 },
 "nbformat": 4,
 "nbformat_minor": 2
}
