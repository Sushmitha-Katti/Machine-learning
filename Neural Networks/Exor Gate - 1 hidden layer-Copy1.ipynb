{
 "cells": [
  {
   "cell_type": "code",
   "execution_count": 7,
   "metadata": {},
   "outputs": [],
   "source": [
    "import pandas as pd\n",
    "import numpy as np\n",
    "import matplotlib.pyplot as plt\n",
    "from sklearn.datasets import load_wine\n",
    "\n",
    "from sklearn.model_selection import train_test_split\n"
   ]
  },
  {
   "cell_type": "code",
   "execution_count": 16,
   "metadata": {},
   "outputs": [],
   "source": [
    "from sklearn.preprocessing import MinMaxScaler"
   ]
  },
  {
   "cell_type": "code",
   "execution_count": 11,
   "metadata": {},
   "outputs": [],
   "source": [
    "wine= load_wine()\n",
    "x = wine.data\n",
    "y = wine.target"
   ]
  },
  {
   "cell_type": "code",
   "execution_count": 13,
   "metadata": {},
   "outputs": [],
   "source": [
    "target_list = []\n",
    "for i in wine.target:\n",
    "    op = [0,0,0]\n",
    "    op[i] = 1\n",
    "    target_list.append(op)"
   ]
  },
  {
   "cell_type": "code",
   "execution_count": 14,
   "metadata": {},
   "outputs": [
    {
     "data": {
      "text/plain": [
       "[[1, 0, 0],\n",
       " [1, 0, 0],\n",
       " [1, 0, 0],\n",
       " [1, 0, 0],\n",
       " [1, 0, 0],\n",
       " [1, 0, 0],\n",
       " [1, 0, 0],\n",
       " [1, 0, 0],\n",
       " [1, 0, 0],\n",
       " [1, 0, 0],\n",
       " [1, 0, 0],\n",
       " [1, 0, 0],\n",
       " [1, 0, 0],\n",
       " [1, 0, 0],\n",
       " [1, 0, 0],\n",
       " [1, 0, 0],\n",
       " [1, 0, 0],\n",
       " [1, 0, 0],\n",
       " [1, 0, 0],\n",
       " [1, 0, 0],\n",
       " [1, 0, 0],\n",
       " [1, 0, 0],\n",
       " [1, 0, 0],\n",
       " [1, 0, 0],\n",
       " [1, 0, 0],\n",
       " [1, 0, 0],\n",
       " [1, 0, 0],\n",
       " [1, 0, 0],\n",
       " [1, 0, 0],\n",
       " [1, 0, 0],\n",
       " [1, 0, 0],\n",
       " [1, 0, 0],\n",
       " [1, 0, 0],\n",
       " [1, 0, 0],\n",
       " [1, 0, 0],\n",
       " [1, 0, 0],\n",
       " [1, 0, 0],\n",
       " [1, 0, 0],\n",
       " [1, 0, 0],\n",
       " [1, 0, 0],\n",
       " [1, 0, 0],\n",
       " [1, 0, 0],\n",
       " [1, 0, 0],\n",
       " [1, 0, 0],\n",
       " [1, 0, 0],\n",
       " [1, 0, 0],\n",
       " [1, 0, 0],\n",
       " [1, 0, 0],\n",
       " [1, 0, 0],\n",
       " [1, 0, 0],\n",
       " [1, 0, 0],\n",
       " [1, 0, 0],\n",
       " [1, 0, 0],\n",
       " [1, 0, 0],\n",
       " [1, 0, 0],\n",
       " [1, 0, 0],\n",
       " [1, 0, 0],\n",
       " [1, 0, 0],\n",
       " [1, 0, 0],\n",
       " [0, 1, 0],\n",
       " [0, 1, 0],\n",
       " [0, 1, 0],\n",
       " [0, 1, 0],\n",
       " [0, 1, 0],\n",
       " [0, 1, 0],\n",
       " [0, 1, 0],\n",
       " [0, 1, 0],\n",
       " [0, 1, 0],\n",
       " [0, 1, 0],\n",
       " [0, 1, 0],\n",
       " [0, 1, 0],\n",
       " [0, 1, 0],\n",
       " [0, 1, 0],\n",
       " [0, 1, 0],\n",
       " [0, 1, 0],\n",
       " [0, 1, 0],\n",
       " [0, 1, 0],\n",
       " [0, 1, 0],\n",
       " [0, 1, 0],\n",
       " [0, 1, 0],\n",
       " [0, 1, 0],\n",
       " [0, 1, 0],\n",
       " [0, 1, 0],\n",
       " [0, 1, 0],\n",
       " [0, 1, 0],\n",
       " [0, 1, 0],\n",
       " [0, 1, 0],\n",
       " [0, 1, 0],\n",
       " [0, 1, 0],\n",
       " [0, 1, 0],\n",
       " [0, 1, 0],\n",
       " [0, 1, 0],\n",
       " [0, 1, 0],\n",
       " [0, 1, 0],\n",
       " [0, 1, 0],\n",
       " [0, 1, 0],\n",
       " [0, 1, 0],\n",
       " [0, 1, 0],\n",
       " [0, 1, 0],\n",
       " [0, 1, 0],\n",
       " [0, 1, 0],\n",
       " [0, 1, 0],\n",
       " [0, 1, 0],\n",
       " [0, 1, 0],\n",
       " [0, 1, 0],\n",
       " [0, 1, 0],\n",
       " [0, 1, 0],\n",
       " [0, 1, 0],\n",
       " [0, 1, 0],\n",
       " [0, 1, 0],\n",
       " [0, 1, 0],\n",
       " [0, 1, 0],\n",
       " [0, 1, 0],\n",
       " [0, 1, 0],\n",
       " [0, 1, 0],\n",
       " [0, 1, 0],\n",
       " [0, 1, 0],\n",
       " [0, 1, 0],\n",
       " [0, 1, 0],\n",
       " [0, 1, 0],\n",
       " [0, 1, 0],\n",
       " [0, 1, 0],\n",
       " [0, 1, 0],\n",
       " [0, 1, 0],\n",
       " [0, 1, 0],\n",
       " [0, 1, 0],\n",
       " [0, 1, 0],\n",
       " [0, 1, 0],\n",
       " [0, 1, 0],\n",
       " [0, 1, 0],\n",
       " [0, 0, 1],\n",
       " [0, 0, 1],\n",
       " [0, 0, 1],\n",
       " [0, 0, 1],\n",
       " [0, 0, 1],\n",
       " [0, 0, 1],\n",
       " [0, 0, 1],\n",
       " [0, 0, 1],\n",
       " [0, 0, 1],\n",
       " [0, 0, 1],\n",
       " [0, 0, 1],\n",
       " [0, 0, 1],\n",
       " [0, 0, 1],\n",
       " [0, 0, 1],\n",
       " [0, 0, 1],\n",
       " [0, 0, 1],\n",
       " [0, 0, 1],\n",
       " [0, 0, 1],\n",
       " [0, 0, 1],\n",
       " [0, 0, 1],\n",
       " [0, 0, 1],\n",
       " [0, 0, 1],\n",
       " [0, 0, 1],\n",
       " [0, 0, 1],\n",
       " [0, 0, 1],\n",
       " [0, 0, 1],\n",
       " [0, 0, 1],\n",
       " [0, 0, 1],\n",
       " [0, 0, 1],\n",
       " [0, 0, 1],\n",
       " [0, 0, 1],\n",
       " [0, 0, 1],\n",
       " [0, 0, 1],\n",
       " [0, 0, 1],\n",
       " [0, 0, 1],\n",
       " [0, 0, 1],\n",
       " [0, 0, 1],\n",
       " [0, 0, 1],\n",
       " [0, 0, 1],\n",
       " [0, 0, 1],\n",
       " [0, 0, 1],\n",
       " [0, 0, 1],\n",
       " [0, 0, 1],\n",
       " [0, 0, 1],\n",
       " [0, 0, 1],\n",
       " [0, 0, 1],\n",
       " [0, 0, 1],\n",
       " [0, 0, 1]]"
      ]
     },
     "execution_count": 14,
     "metadata": {},
     "output_type": "execute_result"
    }
   ],
   "source": [
    "target_list"
   ]
  },
  {
   "cell_type": "code",
   "execution_count": 15,
   "metadata": {},
   "outputs": [],
   "source": [
    "y = target_list\n"
   ]
  },
  {
   "cell_type": "code",
   "execution_count": 19,
   "metadata": {},
   "outputs": [],
   "source": [
    "scaler = MinMaxScaler()\n"
   ]
  },
  {
   "cell_type": "code",
   "execution_count": 67,
   "metadata": {},
   "outputs": [
    {
     "data": {
      "text/plain": [
       "array([[0.27631579, 0.11660079, 0.5026738 , 0.67010309, 0.        ,\n",
       "        0.42068966, 0.26371308, 0.54716981, 0.30599369, 0.03924915,\n",
       "        0.4796748 , 0.71062271, 0.24750357],\n",
       "       [0.        , 0.15217391, 0.44919786, 0.56185567, 0.16304348,\n",
       "        0.51034483, 0.38607595, 0.73584906, 0.50473186, 0.05290102,\n",
       "        1.        , 0.58608059, 0.09201141],\n",
       "       [0.51578947, 0.18379447, 0.6631016 , 1.        , 0.75      ,\n",
       "        0.8       , 0.53797468, 0.1509434 , 0.48895899, 0.17662116,\n",
       "        0.67479675, 0.81684982, 0.5042796 ],\n",
       "       [0.45789474, 0.53162055, 0.3315508 , 0.27835052, 0.10869565,\n",
       "        0.22413793, 0.19198312, 0.56603774, 0.13249211, 0.18088737,\n",
       "        0.17886179, 0.31135531, 0.06704708],\n",
       "       [0.68684211, 0.46640316, 0.64171123, 0.2371134 , 0.5       ,\n",
       "        0.59310345, 0.56751055, 0.0754717 , 0.39432177, 0.32593857,\n",
       "        0.3902439 , 0.76556777, 0.40442225],\n",
       "       [0.5       , 0.40909091, 0.71657754, 0.53608247, 0.2826087 ,\n",
       "        0.19310345, 0.03375527, 0.75471698, 0.10725552, 0.28327645,\n",
       "        0.23577236, 0.38095238, 0.2296719 ],\n",
       "       [0.37368421, 0.45256917, 0.68449198, 0.84536082, 0.29347826,\n",
       "        0.31724138, 0.05063291, 0.94339623, 0.23028391, 0.53071672,\n",
       "        0.15447154, 0.16849817, 0.42938659],\n",
       "       [0.71052632, 0.71541502, 0.48128342, 0.61340206, 0.19565217,\n",
       "        0.10344828, 0.02742616, 0.73584906, 0.23343849, 0.4556314 ,\n",
       "        0.24390244, 0.17582418, 0.17261056],\n",
       "       [0.81315789, 0.14624506, 0.51336898, 0.31958763, 0.27173913,\n",
       "        0.42068966, 0.44092827, 0.24528302, 0.3659306 , 0.31740614,\n",
       "        0.56097561, 0.56776557, 0.7146933 ],\n",
       "       [0.57105263, 0.2055336 , 0.4171123 , 0.03092784, 0.32608696,\n",
       "        0.57586207, 0.51054852, 0.24528302, 0.27444795, 0.26450512,\n",
       "        0.46341463, 0.78021978, 0.55064194],\n",
       "       [0.5       , 0.60474308, 0.68983957, 0.41237113, 0.34782609,\n",
       "        0.49310345, 0.43670886, 0.22641509, 0.49526814, 0.27474403,\n",
       "        0.44715447, 0.82417582, 0.35092725],\n",
       "       [0.13947368, 0.25889328, 1.        , 0.92268041, 0.5326087 ,\n",
       "        0.75862069, 1.        , 0.64150943, 0.46056782, 0.40273038,\n",
       "        0.36585366, 0.88644689, 0.13338088],\n",
       "       [0.62368421, 0.62648221, 0.59893048, 0.63917526, 0.34782609,\n",
       "        0.28275862, 0.08649789, 0.56603774, 0.31545741, 0.51365188,\n",
       "        0.17886179, 0.10622711, 0.33666191],\n",
       "       [0.1       , 0.        , 0.60962567, 0.53608247, 0.19565217,\n",
       "        0.51724138, 0.35232068, 0.54716981, 0.32492114, 0.15358362,\n",
       "        0.50406504, 0.38095238, 0.11126961],\n",
       "       [0.80789474, 0.25296443, 0.55614973, 0.42268041, 0.35869565,\n",
       "        0.61034483, 0.5443038 , 0.35849057, 0.6214511 , 0.41979522,\n",
       "        0.4796748 , 0.54212454, 0.55777461],\n",
       "       [0.71578947, 0.19565217, 0.56149733, 0.27835052, 0.20652174,\n",
       "        0.55862069, 0.51054852, 0.30188679, 0.44164038, 0.36860068,\n",
       "        0.54471545, 0.5970696 , 0.74322397],\n",
       "       [0.24473684, 0.06916996, 0.5026738 , 0.53608247, 0.33695652,\n",
       "        0.82758621, 0.37974684, 0.        , 0.39116719, 0.16467577,\n",
       "        0.41463415, 0.68131868, 0.43366619],\n",
       "       [0.35263158, 0.03952569, 0.        , 0.        , 0.19565217,\n",
       "        0.34482759, 0.04852321, 0.28301887, 0.00315457, 0.05716724,\n",
       "        0.46341463, 0.2014652 , 0.17261056],\n",
       "       [0.71842105, 0.15612648, 0.71657754, 0.45876289, 0.67391304,\n",
       "        0.67931034, 0.50632911, 0.69811321, 0.29652997, 0.35153584,\n",
       "        0.62601626, 0.63369963, 0.68259629],\n",
       "       [0.64736842, 0.56324111, 0.44385027, 0.45876289, 0.19565217,\n",
       "        0.22068966, 0.02953586, 0.8490566 , 0.14826498, 0.37713311,\n",
       "        0.26829268, 0.2014652 , 0.21540656],\n",
       "       [0.35263158, 0.0770751 , 0.42780749, 0.43298969, 0.18478261,\n",
       "        0.86896552, 0.58227848, 0.11320755, 0.46056782, 0.27047782,\n",
       "        0.60162602, 0.58608059, 0.10128388],\n",
       "       [0.67105263, 0.18181818, 0.53475936, 0.43814433, 0.39130435,\n",
       "        0.64827586, 0.60126582, 0.16981132, 0.48580442, 0.47952218,\n",
       "        0.49593496, 0.58974359, 0.88231098],\n",
       "       [0.72368421, 0.39920949, 0.5026738 , 0.58762887, 0.2173913 ,\n",
       "        0.12758621, 0.07172996, 0.52830189, 0.1955836 , 0.70819113,\n",
       "        0.17886179, 0.15018315, 0.2403709 ],\n",
       "       [0.75      , 0.84980237, 0.46524064, 0.48453608, 0.10869565,\n",
       "        0.        , 0.        , 0.50943396, 0.0851735 , 0.30887372,\n",
       "        0.08130081, 0.02197802, 0.09771755],\n",
       "       [0.64473684, 0.21146245, 0.56149733, 0.51030928, 0.32608696,\n",
       "        0.59310345, 0.55696203, 0.24528302, 0.45741325, 0.32593857,\n",
       "        0.45528455, 0.80586081, 0.45791726],\n",
       "       [0.30789474, 0.45256917, 0.51336898, 0.43298969, 0.2826087 ,\n",
       "        0.09310345, 0.03164557, 0.50943396, 0.10094637, 0.36006826,\n",
       "        0.14634146, 0.20512821, 0.16547789],\n",
       "       [0.40789474, 0.10869565, 0.39572193, 0.48453608, 0.35869565,\n",
       "        0.17241379, 0.05063291, 0.75471698, 0.31230284, 0.53924915,\n",
       "        0.08130081, 0.1025641 , 0.25820257],\n",
       "       [0.20789474, 0.19367589, 0.27807487, 0.45876289, 0.17391304,\n",
       "        0.52413793, 0.2742616 , 0.45283019, 0.31861199, 0.0665529 ,\n",
       "        0.37398374, 0.42857143, 0.09771755],\n",
       "       [0.54736842, 0.22924901, 0.74331551, 0.76804124, 0.5       ,\n",
       "        0.42068966, 0.19831224, 0.24528302, 0.36277603, 0.49658703,\n",
       "        0.10569106, 0.02197802, 0.10485021],\n",
       "       [0.26578947, 0.70355731, 0.54545455, 0.58762887, 0.10869565,\n",
       "        0.3862069 , 0.29746835, 0.54716981, 0.29652997, 0.11262799,\n",
       "        0.25203252, 0.47619048, 0.21540656],\n",
       "       [0.83421053, 0.20158103, 0.5828877 , 0.2371134 , 0.45652174,\n",
       "        0.78965517, 0.64345992, 0.39622642, 0.49211356, 0.46672355,\n",
       "        0.46341463, 0.57875458, 0.83594864],\n",
       "       [0.32105263, 0.78656126, 0.63101604, 0.53608247, 0.20652174,\n",
       "        0.13793103, 0.02742616, 0.75471698, 0.12302839, 0.21928328,\n",
       "        0.2195122 , 0.        , 0.31526391],\n",
       "       [0.88421053, 0.22332016, 0.5828877 , 0.20618557, 0.2826087 ,\n",
       "        0.52413793, 0.45991561, 0.32075472, 0.49526814, 0.3387372 ,\n",
       "        0.43902439, 0.84615385, 0.72182596],\n",
       "       [0.66578947, 0.1916996 , 0.50802139, 0.28865979, 0.51086957,\n",
       "        0.74827586, 0.62236287, 0.39622642, 0.60883281, 0.41382253,\n",
       "        0.38211382, 0.77289377, 0.36875892],\n",
       "       [0.34210526, 0.07114625, 0.49197861, 0.27835052, 0.33695652,\n",
       "        0.36896552, 0.15822785, 0.94339623, 0.        , 0.16979522,\n",
       "        0.62601626, 0.14652015, 0.28673324],\n",
       "       [0.11315789, 0.59288538, 0.2459893 , 0.45876289, 0.40217391,\n",
       "        0.75862069, 0.47257384, 0.20754717, 1.        , 0.13822526,\n",
       "        0.2195122 , 0.56410256, 0.20256776]])"
      ]
     },
     "execution_count": 67,
     "metadata": {},
     "output_type": "execute_result"
    }
   ],
   "source": [
    "X = scaler.fit_transform(x)\n",
    "Y = np.array(y)\n"
   ]
  },
  {
   "cell_type": "code",
   "execution_count": 73,
   "metadata": {},
   "outputs": [],
   "source": [
    "xtrain, xtest, ytrain, ytest = train_test_split(X,Y, test_size = 0.2)\n"
   ]
  },
  {
   "cell_type": "code",
   "execution_count": 48,
   "metadata": {},
   "outputs": [],
   "source": [
    "np.random.seed(3)\n",
    "w0 = np.random.random((13,50))-1\n",
    "w1 = np.random.random((50,26))-1\n",
    "w2 = np.random.random((26,13))-1\n",
    "w3 = np.random.random((13,3))-1\n",
    "\n",
    "b0 = np.random.random((1,1))-1\n",
    "b1 = np.random.random((1,1))-1\n",
    "b2 = np.random.random((1,1))-1\n",
    "b3 = np.random.random((1,1))-1"
   ]
  },
  {
   "cell_type": "code",
   "execution_count": 49,
   "metadata": {},
   "outputs": [],
   "source": [
    "def sigmoid(x):\n",
    "    return (1/(1 + np.exp(-x)))"
   ]
  },
  {
   "cell_type": "code",
   "execution_count": 50,
   "metadata": {},
   "outputs": [],
   "source": [
    "def dsigmoid(x):\n",
    "    return x*(1-x)"
   ]
  },
  {
   "cell_type": "code",
   "execution_count": 51,
   "metadata": {},
   "outputs": [],
   "source": [
    "def feed_forward(data_in,w0,w1,w2,w3, b0,b1,b2,b3):\n",
    "    layer0 = data_in\n",
    "    layer1 = sigmoid(np.dot(layer0,w0)+b0)\n",
    "    layer2 = sigmoid(np.dot(layer1,w1)+b1)\n",
    "    layer3 = sigmoid(np.dot(layer2,w2)+b2)\n",
    "    layer4 = sigmoid(np.dot(layer3,w3)+b3)\n",
    "    return layer0,layer1,layer2,layer3,layer4"
   ]
  },
  {
   "cell_type": "code",
   "execution_count": 82,
   "metadata": {},
   "outputs": [],
   "source": [
    "def back_propagation(layer0, layer1,layer2,layer3,layer4,actual_y, w0, w1,w2,w3, b0, b1,b2,b3, learning_rate, i):\n",
    "    \n",
    "     \n",
    "    l4_error = layer4 - actual_y\n",
    "    l4_delta = l4_error * dsigmoid(layer4)\n",
    "    dh4 = np.dot(layer3.T , l4_delta)\n",
    "    \n",
    "    l3_error = np.dot(l4_delta ,w3.T)\n",
    "    l3_delta = l3_error * dsigmoid(layer3)\n",
    "    dh3 = np.dot(layer2.T , l3_delta)\n",
    "    \n",
    "    \n",
    "    l2_error = np.dot(l3_delta ,w2.T)\n",
    "    l2_delta = l2_error * dsigmoid(layer2)\n",
    "    dh2 = np.dot(layer1.T , l2_delta)\n",
    "    \n",
    "    l1_error = np.dot(l2_delta ,w1.T)\n",
    "    l1_delta = l1_error * dsigmoid(layer1)\n",
    "    dh1 = np.dot(layer0.T , l1_delta)\n",
    "    \n",
    "    w3 = w3 - (learning_rate * dh4)\n",
    "    w2 = w2 - (learning_rate * dh3)\n",
    "    w1 = w1 - (learning_rate * dh2)\n",
    "    w0 = w0 - (learning_rate * dh1)\n",
    "   \n",
    "  \n",
    "    b1 = b1 - (learning_rate * np.mean(l2_delta))\n",
    "    b0 = b0 - (learning_rate * np.mean(l1_delta))\n",
    "    b2 = b2 - (learning_rate * np.mean(l3_delta))\n",
    "    b3 = b3 - (learning_rate * np.mean(l4_delta))\n",
    "    \n",
    "    if i%1 == 0:\n",
    "        loss = np.mean(np.power(layer4 - actual_y , 2))\n",
    "        loss_curve.append(loss)\n",
    "        iters.append(int(i))\n",
    "        \n",
    "        if i%100 == 0:\n",
    "            print('\\n',int(i), loss)\n",
    "            \n",
    "    return w0 ,w1,w2,w3, b0,b1,b2,b3"
   ]
  },
  {
   "cell_type": "code",
   "execution_count": 91,
   "metadata": {},
   "outputs": [],
   "source": [
    "def accuracy(testx, testy):\n",
    "    correct = 0\n",
    "    layer0, layer1, layer2,layer3,layer4 = feed_forward(testx,w0,w1,w2,w3,b0,b1,b2,b3)\n",
    "    for i in range(len(testx)):\n",
    "        if(np.argmax(layer4[i]) == np.argmax(testy[i])):\n",
    "            correct +=1\n",
    "    return f\"Accuracy: {correct*100/len(testy)}\""
   ]
  },
  {
   "cell_type": "code",
   "execution_count": 92,
   "metadata": {},
   "outputs": [],
   "source": [
    "epochs = 1000\n",
    "loss_curve = []\n",
    "iters = []"
   ]
  },
  {
   "cell_type": "code",
   "execution_count": 93,
   "metadata": {},
   "outputs": [
    {
     "name": "stdout",
     "output_type": "stream",
     "text": [
      "\n",
      " 0 0.1341224601798909\n",
      "\n",
      " 100 0.1341218211675233\n",
      "\n",
      " 200 0.1341211828877424\n",
      "\n",
      " 300 0.1341205453387374\n",
      "\n",
      " 400 0.13411990851870492\n",
      "\n",
      " 500 0.13411927242584878\n",
      "\n",
      " 600 0.1341186370583803\n",
      "\n",
      " 700 0.13411800241451785\n",
      "\n",
      " 800 0.13411736849248707\n",
      "\n",
      " 900 0.13411673529052068\n"
     ]
    }
   ],
   "source": [
    "for i in range(epochs):\n",
    "    layer0, layer1,layer2,layer3, layer4 = feed_forward(xtrain, w0, w1,w2,w3, b0, b1,b2,b3)\n",
    "    w0, w1,w2,w3,b0, b1,b2,b3 = back_propagation(layer0, layer1, layer2,layer3,layer4, ytrain, w0,w1,w2,w3,b0,b1,b2,b3,0.001,i)"
   ]
  },
  {
   "cell_type": "code",
   "execution_count": 95,
   "metadata": {},
   "outputs": [
    {
     "name": "stdout",
     "output_type": "stream",
     "text": [
      "Accuracy: 38.888888888888886\n"
     ]
    }
   ],
   "source": [
    "print(accuracy(xtest,ytest))"
   ]
  },
  {
   "cell_type": "code",
   "execution_count": 56,
   "metadata": {},
   "outputs": [
    {
     "data": {
      "text/plain": [
       "[<matplotlib.lines.Line2D at 0x5b708f17b8>]"
      ]
     },
     "execution_count": 56,
     "metadata": {},
     "output_type": "execute_result"
    },
    {
     "data": {
      "image/png": "[encoded data removed]",
      "text/plain": [
       "<Figure size 432x288 with 1 Axes>"
      ]
     },
     "metadata": {
      "needs_background": "light"
     },
     "output_type": "display_data"
    }
   ],
   "source": [
    "plt.plot(iters, loss_curve)"
   ]
  },
  {
   "cell_type": "code",
   "execution_count": 150,
   "metadata": {},
   "outputs": [
    {
     "data": {
      "text/plain": [
       "([0, 1, 1], array([[0.14743962, 0.17762946]]), array([[0.31522175]]))"
      ]
     },
     "execution_count": 150,
     "metadata": {},
     "output_type": "execute_result"
    }
   ],
   "source": [
    "feed_forward([0,1,1],w0,w1, b0,b1)"
   ]
  },
  {
   "cell_type": "code",
   "execution_count": null,
   "metadata": {},
   "outputs": [],
   "source": []
  }
 ],
 "metadata": {
  "kernelspec": {
   "display_name": "Python 3",
   "language": "python",
   "name": "python3"
  },
  "language_info": {
   "codemirror_mode": {
    "name": "ipython",
    "version": 3
   },
   "file_extension": ".py",
   "mimetype": "text/x-python",
   "name": "python",
   "nbconvert_exporter": "python",
   "pygments_lexer": "ipython3",
   "version": "3.7.1"
  }
 },
 "nbformat": 4,
 "nbformat_minor": 2
}
