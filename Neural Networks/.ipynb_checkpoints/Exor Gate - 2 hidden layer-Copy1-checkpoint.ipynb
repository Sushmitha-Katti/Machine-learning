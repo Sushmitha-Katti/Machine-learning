{
 "cells": [
  {
   "cell_type": "code",
   "execution_count": 3,
   "metadata": {},
   "outputs": [],
   "source": [
    "import pandas as pd\n",
    "import numpy as np\n",
    "import matplotlib.pyplot as plt\n",
    "\n",
    "from sklearn.model_selection import train_test_split\n"
   ]
  },
  {
   "cell_type": "code",
   "execution_count": 4,
   "metadata": {},
   "outputs": [],
   "source": [
    "input_data = np.array([[0,0,0],[0,1,0],[0,0,1],[1,0,0],[1,1,1],[1,1,0]])"
   ]
  },
  {
   "cell_type": "code",
   "execution_count": 5,
   "metadata": {},
   "outputs": [],
   "source": [
    "output_data =np.array( [[0],[1],[1],[1],[1],[0]])"
   ]
  },
  {
   "cell_type": "code",
   "execution_count": 6,
   "metadata": {},
   "outputs": [],
   "source": [
    "def sigmoid(x):\n",
    "    return (1/(1 + np.exp(-x)))"
   ]
  },
  {
   "cell_type": "code",
   "execution_count": 7,
   "metadata": {},
   "outputs": [],
   "source": [
    "def dsigmoid(x):\n",
    "    return x*(1-x)"
   ]
  },
  {
   "cell_type": "code",
   "execution_count": 20,
   "metadata": {},
   "outputs": [],
   "source": [
    "np.random.seed(3)\n",
    "w0 = np.random.random((3,4))-1\n",
    "w1 = np.random.random((4,2))-1\n",
    "w2 = np.random.random((2,1))-1\n",
    "\n",
    "b0 = np.random.random((1,1))-1\n",
    "b1 = np.random.random((1,1))-1\n",
    "b2 = np.random.random((1,1))-1"
   ]
  },
  {
   "cell_type": "code",
   "execution_count": 21,
   "metadata": {},
   "outputs": [],
   "source": [
    "def feed_forward(data_in,w0,w1,w2,b0,b1,b2):\n",
    "    layer0 = data_in\n",
    "    layer1 = sigmoid(np.dot(layer0,w0)+b0)\n",
    "    layer2 = sigmoid(np.dot(layer1,w1)+b1)\n",
    "    layer3 = sigmoid(np.dot(layer2,w2)+b2)\n",
    "    return layer0,layer1,layer2,layer3"
   ]
  },
  {
   "cell_type": "code",
   "execution_count": 33,
   "metadata": {},
   "outputs": [],
   "source": [
    "def back_propagation(layer0, layer1,layer2,layer3,actual_y, w0, w1,w2, b0, b1,b2, learning_rate, i):\n",
    "    \n",
    "    l3_error = layer3 - actual_y\n",
    "    l3_delta = l3_error * dsigmoid(layer3)\n",
    "    dh3 = np.dot(layer2.T , l3_delta)\n",
    "    \n",
    "    l2_error = np.dot(l3_delta ,w2.T)\n",
    "    l2_delta = l2_error * dsigmoid(layer2)\n",
    "    dh2 = np.dot(layer1.T , l2_delta)\n",
    "    \n",
    "    l1_error = np.dot(l2_delta ,w1.T)\n",
    "    l1_delta = l1_error * dsigmoid(layer1)\n",
    "    dh1 = np.dot(layer0.T , l1_delta)\n",
    "    \n",
    "    w1 = w1 - (learning_rate * dh2)\n",
    "    w0 = w0 - (learning_rate * dh1)\n",
    "    w2 = w2 - (learning_rate * dh3)\n",
    "    \n",
    "  \n",
    "    b1 = b1 - (learning_rate * np.mean(l2_delta))\n",
    "    b0 = b0 - (learning_rate * np.mean(l1_delta))\n",
    "    b2 = b2 - (learning_rate * np.mean(l3_delta))\n",
    "    \n",
    "    if i%1 == 0 and (i!=0):\n",
    "        loss = np.mean(np.power(layer2 - actual_y , 2))\n",
    "        loss_curve.append(loss)\n",
    "        iters.append(int(i))\n",
    "        \n",
    "        if i%1 == 0:\n",
    "            print('\\n',int(i), loss)\n",
    "            \n",
    "    return w0 ,w1, b0,b1"
   ]
  },
  {
   "cell_type": "code",
   "execution_count": 34,
   "metadata": {},
   "outputs": [],
   "source": [
    "def accuracy(testx, testy):\n",
    "    correct = 0\n",
    "    layer0, layer1, layer2 = feed_forward(testx,w1,b0,b1)\n",
    "    for i in range(len(textx)):\n",
    "        if(np.argmax(layer2[i]) == np.argmax(testy[i])):\n",
    "           correct +=1\n",
    "    return f\"Accuracy: {correct*100/len(testy)}\""
   ]
  },
  {
   "cell_type": "code",
   "execution_count": 35,
   "metadata": {},
   "outputs": [],
   "source": [
    "epochs = 10\n",
    "loss_curve = []\n",
    "iters = []"
   ]
  },
  {
   "cell_type": "code",
   "execution_count": 37,
   "metadata": {},
   "outputs": [
    {
     "name": "stdout",
     "output_type": "stream",
     "text": [
      "\n",
      " 1 0.4247056335592798\n",
      "\n",
      " 2 0.4248174800207795\n",
      "\n",
      " 3 0.4249293007246844\n",
      "\n",
      " 4 0.42504109565093606\n",
      "\n",
      " 5 0.4251528647795397\n",
      "\n",
      " 6 0.4252646080905624\n",
      "\n",
      " 7 0.4253763255641343\n",
      "\n",
      " 8 0.425488017180448\n",
      "\n",
      " 9 0.4255996829197579\n"
     ]
    }
   ],
   "source": [
    "for i in range(epochs):\n",
    "    layer0, layer1,layer2,layer3 = feed_forward(input_data, w0, w1,w2, b0, b1,b2) \n",
    "\n",
    "    w0, w1, b0, b1 = back_propagation(layer0, layer1, layer2, layer3, output_data, w0,w1,w2,b0,b1,b2,0.05,i)"
   ]
  },
  {
   "cell_type": "code",
   "execution_count": 38,
   "metadata": {},
   "outputs": [],
   "source": [
    "print(accuracy(input_data,output_data))"
   ]
  },
  {
   "cell_type": "code",
   "execution_count": 39,
   "metadata": {},
   "outputs": [
    {
     "data": {
      "text/plain": [
       "[<matplotlib.lines.Line2D at 0x89c9841160>]"
      ]
     },
     "execution_count": 39,
     "metadata": {},
     "output_type": "execute_result"
    },
    {
     "data": {
      "image/png": "[encoded data removed]",
      "text/plain": [
       "<Figure size 432x288 with 1 Axes>"
      ]
     },
     "metadata": {
      "needs_background": "light"
     },
     "output_type": "display_data"
    }
   ],
   "source": [
    "plt.plot(iters, loss_curve)"
   ]
  },
  {
   "cell_type": "code",
   "execution_count": 41,
   "metadata": {},
   "outputs": [
    {
     "data": {
      "text/plain": [
       "([0, 1, 1],\n",
       " array([[0.16634823, 0.22809159, 0.08316516, 0.13113636]]),\n",
       " array([[0.23863344, 0.23604173]]),\n",
       " array([[0.33208763]]))"
      ]
     },
     "execution_count": 41,
     "metadata": {},
     "output_type": "execute_result"
    }
   ],
   "source": [
    "feed_forward([0,1,1],w0,w1,w2, b0,b1,b2)"
   ]
  },
  {
   "cell_type": "code",
   "execution_count": null,
   "metadata": {},
   "outputs": [],
   "source": []
  }
 ],
 "metadata": {
  "kernelspec": {
   "display_name": "Python 3",
   "language": "python",
   "name": "python3"
  },
  "language_info": {
   "codemirror_mode": {
    "name": "ipython",
    "version": 3
   },
   "file_extension": ".py",
   "mimetype": "text/x-python",
   "name": "python",
   "nbconvert_exporter": "python",
   "pygments_lexer": "ipython3",
   "version": "3.7.1"
  }
 },
 "nbformat": 4,
 "nbformat_minor": 2
}
